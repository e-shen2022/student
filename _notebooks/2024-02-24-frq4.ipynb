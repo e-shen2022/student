{
 "cells": [
  {
   "cell_type": "markdown",
   "metadata": {},
   "source": [
    "---\n",
    "toc: true\n",
    "comments: true\n",
    "layout: default\n",
    "title: 2015 FRQ Q4\n",
    "courses: { csa: {week: 24} }\n",
    "type: hacks\n",
    "---"
   ]
  },
  {
   "cell_type": "markdown",
   "metadata": {},
   "source": [
    "<h1>  2015 FRQ Q4 </h1>"
   ]
  },
  {
   "cell_type": "markdown",
   "metadata": {},
   "source": [
    "<h3>Instructions</h3>\n",
    "\n",
    "This question involves the design of an interface, writing a class that implements the interface, and writing a method that uses the interface.\n",
    "\n",
    "<h3>Part (A) </h3>\n",
    "\n",
    "A number group represents a group of integers defined in some way. It could be empty, or it could contain one or more integers.\n",
    "\n",
    "Write an interface named NumberGroup that represents a group of integers. The interface should have a single contains method that determines if a given integer is in the group. For example, if group1 is of type NumberGroup, and it contains only the two numbers -5 and 3, then group1.contains(-5) would return true, and group1.contains(2) would return false.\n",
    "\n",
    "Write the complete NumberGroup interface. It must have exactly one method."
   ]
  },
  {
   "cell_type": "code",
   "execution_count": 1,
   "metadata": {},
   "outputs": [],
   "source": [
    "// interfaces can't have constructors, just name method, return type, and arguments\n",
    "public interface NumberGroup {\n",
    "    public boolean contains(int x); \n",
    "}"
   ]
  },
  {
   "cell_type": "markdown",
   "metadata": {},
   "source": [
    "<h3>Part (B) </h3>\n",
    "\n",
    "A range represents a number group that contains all (and only) the integers between a minimum value and a maximum value, inclusive.\n",
    "Write the Range class, which is a NumberGroup. The Range class represents the group of int values that range from a given minimum value up through a given maximum value, inclusive. For example,the declaration\n",
    "\n",
    "NumberGroup range1 = new Range(-3, 2);\n",
    "\n",
    "\n",
    " \n",
    "\n",
    "represents the group of integer values -3, -2, -1, 0, 1, 2.\n",
    "\n",
    "Write the complete Range class. Include all necessary instance variables and methods as well as a constructor that takes two int parameters. The first parameter represents the minimum value, and the second parameter represents the maximum value of the range. <mark>You may assume that the minimum is less than or equal to the maximum.</mark>"
   ]
  },
  {
   "cell_type": "code",
   "execution_count": 5,
   "metadata": {},
   "outputs": [
    {
     "name": "stdout",
     "output_type": "stream",
     "text": [
      "0 is in the range -5 to 10\n",
      "true\n",
      "\n",
      "34 is in the range -5 to 10\n",
      "false\n"
     ]
    }
   ],
   "source": [
    "// to use interface, a class must implement using \"implements\" keyword\n",
    "public class Range implements NumberGroup{\n",
    "    private int min;\n",
    "    private int max;\n",
    "\n",
    "    // constructor to initialize Range object w/specified min and max\n",
    "    public Range(int min, int max){\n",
    "        // use \"this\" to distinguish between the instance variables and the parameters with the same name\n",
    "        this.min = min;\n",
    "        this.max = max;\n",
    "    }\n",
    "\n",
    "    @Override\n",
    "    public boolean contains(int x){\n",
    "        // check if x is within range (min, max)\n",
    "        if (x >= this.min && x <= this.max){\n",
    "            return true;\n",
    "        } else{\n",
    "            return false;\n",
    "        }\n",
    "    }\n",
    "\n",
    "    public static void main(String[] args){\n",
    "        Range range1 = new Range(-5,10);\n",
    "        \n",
    "        System.out.println(\"0 is in the range -5 to 10\");\n",
    "        System.out.println(range1.contains(0));\n",
    "        \n",
    "        System.out.println(\"\\n34 is in the range -5 to 10\");\n",
    "        System.out.println(range1.contains(34));\n",
    "    }\n",
    "}\n",
    "\n",
    "Range.main(null);"
   ]
  },
  {
   "cell_type": "markdown",
   "metadata": {},
   "source": [
    "<h3>Notes</h3>\n",
    "\n",
    "- I know this type of \"interface\" FRQ won't show up on AP test but it was good to learn the difference between when to use a class or an interface. A class can implement multiple interfaces, but it can only extend a single class. If you need a class to inherit behavior from multiple sources, interfaces provide a way to achieve this.\n",
    "\n",
    "- I learned the usefulness of using the \"this\" keyword in order to distinguish between the instance variables and the parameters with the same name. In the code segment above it is important to use this or else it would seem like I'm assigning a parameter to itself \"min = min\" or \"max = max\". "
   ]
  },
  {
   "cell_type": "markdown",
   "metadata": {},
   "source": [
    "<h3> Part (C) </h3>\n",
    "\n",
    "The MultipleGroups class (not shown) represents a collection of NumberGroup objects and isa NumberGroup. The MultipleGroups class stores the number groups in the instance variable groupList (shown below), which is initialized in the constructor.\n",
    "\n",
    "private List<NumberGroup> groupList;\n",
    "\n",
    "Write the MultipleGroups method contains. The method takes an integer and returns true if and only if the integer is contained in one or more of the number groups in groupList.\n",
    "\n",
    "For example, suppose multiple1 has been declared as an instance of MultipleGroups and consists of the three ranges created by the calls new Range(5, 8), new Range(10, 12), and new Range(1, 6). The following table shows the results of several calls to contains.\n",
    "\n",
    "![](https://github.com/e-shen2022/student/assets/104966589/a8db9d1b-8a98-42f0-99ef-64ae8c8f3a13)"
   ]
  },
  {
   "cell_type": "code",
   "execution_count": 9,
   "metadata": {},
   "outputs": [
    {
     "name": "stdout",
     "output_type": "stream",
     "text": [
      "34 is contained in one or more of the number groups\n",
      "false\n",
      "\n",
      "-2 is contained in one or more of the number groups\n",
      "true\n"
     ]
    }
   ],
   "source": [
    "public class MultipleGroups{\n",
    "\n",
    "    // private instance variable to store list of NumberGroup objects\n",
    "    private List<NumberGroup> groupList;\n",
    "\n",
    "    // private constructor to initialize MultipleGroups with given list of NumberGroup objects\n",
    "    private MultipleGroups(List<NumberGroup> groupList){\n",
    "        this.groupList = groupList;\n",
    "    }\n",
    "\n",
    "    // method check if a given integer is contained in any of group\n",
    "    public boolean contains(int x){\n",
    "        // enhanced for loop\n",
    "        for(NumberGroup group : groupList){\n",
    "            if(group.contains(x)){\n",
    "                return true;\n",
    "            } \n",
    "        }\n",
    "        return false; \n",
    "    }\n",
    "\n",
    "    // main method \n",
    "    public static void main(String[] args){\n",
    "\n",
    "        Range range1 = new Range(-11, 3);\n",
    "        Range range2 = new Range(2, 5);\n",
    "        List<NumberGroup> groupList = new ArrayList<NumberGroup>();\n",
    "        groupList.add(range1);\n",
    "        groupList.add(range2);\n",
    "        \n",
    "        MultipleGroups multiGroup = new MultipleGroups(groupList);\n",
    "        \n",
    "        System.out.println(\"34 is contained in one or more of the number groups\");\n",
    "        System.out.println(multiGroup.contains(34));\n",
    "        \n",
    "        System.out.println(\"\\n-2 is contained in one or more of the number groups\");\n",
    "        System.out.println(multiGroup.contains(-2));\n",
    "    }\n",
    "}\n",
    "\n",
    "MultipleGroups.main(null);"
   ]
  },
  {
   "cell_type": "markdown",
   "metadata": {},
   "source": [
    "<h3>FRQ Type Explanation: Methods and Control Structures</h3>\n",
    "\n",
    "<mark>College Board Definition</mark>: Students will be asked to write program code to create objects of a class and call methods, and satisfy method specifications using expressions, conditional statements, and iterative statements.\n",
    "\n",
    "- for part (A) it just wanted to check understanding of how to declare an interface w/basic Java syntax\n",
    "\n",
    "- for part (B) there are a lot of components that fit with this type of FRQ. The code demonstrates creation of an object of the Range class and how to instantiate an object of the Range class using the constructor. It also shows how the Range class implements the NumberGroup interface which requires the implementation of the contains method. The contains method in the Range class satisfies the method specification defined in the NumberGroup interface. Then there is pretty standard use of if-else statements to check whether a given value x is within the specified range.\n",
    "\n",
    "- for part (C) it also demonstrated creation of objects, calling methods, and method specifications. But it also covered the iterative statements part of this type of FRQ where I chose to use an enhanced for loop to iterate over each NumberGroup in the group list"
   ]
  },
  {
   "cell_type": "markdown",
   "metadata": {},
   "source": [
    "{% include utterances.html %}"
   ]
  }
 ],
 "metadata": {
  "kernelspec": {
   "display_name": "Java",
   "language": "java",
   "name": "java"
  },
  "language_info": {
   "codemirror_mode": "java",
   "file_extension": ".jshell",
   "mimetype": "text/x-java-source",
   "name": "java",
   "pygments_lexer": "java",
   "version": "20.0.1"
  }
 },
 "nbformat": 4,
 "nbformat_minor": 2
}
