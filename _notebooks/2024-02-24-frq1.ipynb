{
 "cells": [
  {
   "cell_type": "markdown",
   "metadata": {},
   "source": [
    "---\n",
    "toc: true\n",
    "comments: true\n",
    "layout: default\n",
    "title: 2015 FRQ Q1\n",
    "courses: { csa: {week: 16} }\n",
    "type: tangibles\n",
    "---"
   ]
  },
  {
   "cell_type": "markdown",
   "metadata": {},
   "source": [
    "<h1>  2015 FRQ Q1 </h1>"
   ]
  },
  {
   "cell_type": "markdown",
   "metadata": {},
   "source": [
    "<h3>Instructions</h3>\n",
    "This question involves reasoning about one-dimensional and two-dimensional arrays of integers. You will write three static methods, all of which are in a single enclosing class, named DiverseArray (not shown). The first method returns the sum of the values of a one-dimensional array; the second method returns an array that represents the sums of the rows of a two-dimensional array; and the third method analyzes row sums."
   ]
  },
  {
   "cell_type": "markdown",
   "metadata": {},
   "source": [
    "<h3>Part (A)</h3>\n",
    "Write a static method arraySum that calculates and returns the sum of the entries in a specified one-dimensional array. The following example shows an array arr1 and the value returned by a call to arraySum.\n",
    "\n",
    "![](https://github.com/e-shen2022/student/assets/104966589/497caa5a-cd8e-4fd8-bd32-2e562df78fba)\n",
    "\n",
    "Complete method arraySum below."
   ]
  },
  {
   "cell_type": "code",
   "execution_count": 4,
   "metadata": {},
   "outputs": [
    {
     "name": "stdout",
     "output_type": "stream",
     "text": [
      "The sum of the entries in the 1D array is 16\n"
     ]
    }
   ],
   "source": [
    "public class DiverseArray {\n",
    "\n",
    "    public static int arraySum (int [ ] arr) {\n",
    "        int sum = 0; \n",
    "    \n",
    "        // enhanced for loop\n",
    "        for (int current_value: arr)\n",
    "        {\n",
    "            sum += current_value;\n",
    "        }\n",
    "    \n",
    "        return sum; \n",
    "    }\n",
    "\n",
    "    public static void main (String args[]) {\n",
    "        \n",
    "        int [] arr1 = {1, 3, 2, 7, 3};\n",
    "        int sum = arraySum(arr1);\n",
    "        System.out.println(\"The sum of the entries in the 1D array is \" + sum);\n",
    "    }\n",
    "    \n",
    "}\n",
    "\n",
    "DiverseArray.main(null);"
   ]
  },
  {
   "cell_type": "markdown",
   "metadata": {},
   "source": [
    "<h4>Notes</h4>\n",
    "\n",
    "- Could use while or for loop but I chose to use enhanced for loop because in this case only need to access not modify values in array\n",
    "\n",
    "- How enhanced for loop works: Iterating variable that temporarily captures the value at each index in the array starting from 0 all the way to end of array\n",
    "\n",
    "- Why enhanced for loop helpful: Don't have to worry about \"index out of bounds\" exceptions or consider if go past array or checking to see if array has 0 values in it (earns first point on college board rubric)"
   ]
  },
  {
   "cell_type": "markdown",
   "metadata": {},
   "source": [
    "<h3>Part (B)</h3>\n",
    "\n",
    "Write a static method rowSums that calculates the sums of each of the rows in a given two-dimensional array and returns these sums in a one-dimensional array. The method has one parameter, a two-dimensional array arr2D of int values. The array is in row-major order (<mark>this means look at rows first and then columns second</mark>): arr2D [ r ] [ c ] is the entry at row r and column c. The method returns a one-dimensional array with one entry for each row of arr2D such that each entry is the sum of the corresponding row in arr2D. As a reminder, each row of a two-dimensional array is a one-dimensional array.\n",
    "\n",
    "For example, if mat1 is the array represented by the following table, the call rowSums(mat1) returns the array {16, 32, 28, 20}.\n",
    "\n",
    "![](https://github.com/e-shen2022/student/assets/104966589/23c5c38a-3587-4682-931e-780e5007dc63)\n",
    "\n",
    "Assume that arraySum works as specified, regardless of what you wrote in part (a). You must use arraySum appropriately to receive full credit.\n",
    "\n",
    "Complete method rowSums below."
   ]
  },
  {
   "cell_type": "code",
   "execution_count": 8,
   "metadata": {},
   "outputs": [
    {
     "name": "stdout",
     "output_type": "stream",
     "text": [
      "The sums of each row are [16, 32, 28, 20]\n"
     ]
    }
   ],
   "source": [
    "public class DiverseArray {\n",
    "\n",
    "    public static int arraySum (int [ ] arr) {\n",
    "        int sum = 0; \n",
    "    \n",
    "        // enhanced for loop\n",
    "        for (int current_value: arr)\n",
    "        {\n",
    "            sum += current_value;\n",
    "        }\n",
    "    \n",
    "        return sum; \n",
    "    }\n",
    "\n",
    "    public static int [ ] rowSums(int [ ] [ ] arr2D) {\n",
    "        // length of result array should be how many rows there are \n",
    "        int[] result = new int[arr2D.length];\n",
    "\n",
    "        // iterate through arr2Ds rows, calling arraySum() on each row k\n",
    "        // and then placing those values at index k in the result array\n",
    "        for(int k = 0; k < arr2D.length; k++)\n",
    "        {\n",
    "            result[k] = arraySum(arr2D[k]);\n",
    "        }\n",
    "\n",
    "        return result; \n",
    "    }\n",
    "\n",
    "    public static void main (String args[]) {\n",
    "        \n",
    "        int[][] mat1 = {\n",
    "            {1, 3, 2, 7, 3},\n",
    "            {10, 10, 4, 6, 2},\n",
    "            {5, 3, 5, 9, 6},\n",
    "            {7, 6, 4, 2, 1}\n",
    "        };\n",
    "        \n",
    "        int[] result = rowSums(mat1);\n",
    "        System.out.println(\"The sums of each row are \" + Arrays.toString(result));\n",
    "    }\n",
    "}\n",
    "\n",
    "DiverseArray.main(null);"
   ]
  },
  {
   "cell_type": "markdown",
   "metadata": {},
   "source": [
    "<h4>Notes</h4>\n",
    "\n",
    "- To really grasp what a 2D array is, it helped me to think of it as an array inside of an array. Ex. mat1 is a 4 element single dimension array, and inside that array there are other arrays. Row 0 is single dimension array that has 5 int values in it, so when I call arraySum on row 0 its just getting the sum of the array going across. "
   ]
  },
  {
   "cell_type": "markdown",
   "metadata": {},
   "source": [
    "<h3>Part (C)</h3>\n",
    "\n",
    "A two-dimensional array is diverse if no two of its rows have entries that sum to the same value. In the following examples, the array mat1 is diverse because each row sum is different, but the array mat2 is not diverse because the first and last rows have the same sum.\n",
    "\n",
    "![](https://github.com/e-shen2022/student/assets/104966589/296db020-1483-433c-9ec6-18f04d58b591)\n",
    "\n",
    "Write a static method isDiverse that determines whether or not a given two-dimensional array is diverse. The method has one parameter: a two-dimensional array arr2D of int values. The method should return true if all the row sums in the given array are unique; otherwise, it should return false. In the arrays shown above, the call isDiverse (mat1) returns true and the call isDiverse(mat2) returns false.\n",
    "\n",
    "Assume that arraySum and rowSums work as specified, regardless of what you wrote in parts (a) and(b). You must use rowSums appropriately to receive full credit.\n",
    "Complete method isDiverse below."
   ]
  },
  {
   "cell_type": "code",
   "execution_count": 13,
   "metadata": {},
   "outputs": [
    {
     "name": "stdout",
     "output_type": "stream",
     "text": [
      "mat1 returns true\n",
      "mat2 returns false\n"
     ]
    }
   ],
   "source": [
    "public class DiverseArray {\n",
    "\n",
    "    public static int arraySum (int [ ] arr) {\n",
    "        int sum = 0; \n",
    "    \n",
    "        // enhanced for loop\n",
    "        for (int current_value: arr)\n",
    "        {\n",
    "            sum += current_value;\n",
    "        }\n",
    "    \n",
    "        return sum; \n",
    "    }\n",
    "\n",
    "    public static int [ ] rowSums(int [ ] [ ] arr2D) {\n",
    "        // length of result array should be how many rows there are \n",
    "        int[] result = new int[arr2D.length];\n",
    "\n",
    "        // iterate through arr2Ds rows, calling arraySum() on each row k\n",
    "        // and then placing those values at index k in the result array\n",
    "        for(int k = 0; k < arr2D.length; k++)\n",
    "        {\n",
    "            result[k] = arraySum(arr2D[k]);\n",
    "        }\n",
    "\n",
    "        return result; \n",
    "    }\n",
    "    \n",
    "    public static boolean isDiverse(int [ ] [ ] arr2D) {\n",
    "\n",
    "        // initialize array of row sums of arr2D\n",
    "        int[] row_sums_array = rowSums(arr2D);\n",
    "\n",
    "        // use 2 pointing variables to compare all the sums in row_sums_array to eachother\n",
    "        // if at any point 2 variables are pointed to equal values, return false;\n",
    "        for (int index_one = 0; index_one < row_sums_array.length - 1; index_one++)\n",
    "        {\n",
    "            for (int index_two = index_one + 1; index_two < row_sums_array.length; index_two++) {\n",
    "\n",
    "                if (row_sums_array[index_one] == row_sums_array[index_two])\n",
    "                {\n",
    "                    return false; \n",
    "                }\n",
    "            }\n",
    "        }\n",
    "        return true; \n",
    "        \n",
    "    }\n",
    "\n",
    "    public static void main (String args[]) {\n",
    "        \n",
    "        int[][] mat1 = {\n",
    "            {1, 3, 2, 7, 3},\n",
    "            {10, 10, 4, 6, 2},\n",
    "            {5, 3, 5, 9, 6},\n",
    "            {7, 6, 4, 2, 1}\n",
    "        };\n",
    "\n",
    "        int[][] mat2 = {\n",
    "            {1, 1, 5, 3, 4},\n",
    "            {12, 7, 6, 1, 9},\n",
    "            {8, 11, 10, 2, 5},\n",
    "            {3, 2, 3, 0, 6}\n",
    "        };\n",
    "\n",
    "        System.out.println(\"mat1 returns \" + isDiverse(mat1));\n",
    "        System.out.println(\"mat2 returns \" + isDiverse(mat2));\n",
    "    }\n",
    "}\n",
    "\n",
    "DiverseArray.main(null);\n"
   ]
  },
  {
   "cell_type": "markdown",
   "metadata": {},
   "source": [
    "<h4>Notes</h4>\n",
    "\n",
    "- when I first read the problem I immediately thought that I would need to somehow check 2 variables against each other but be able to dynamically iterate through the array and after some google searching I learned about pointers which seems to be used for this exact purpose\n",
    "\n",
    "- I found that using \"index_1\" and \"index_2\" instead of i and j (conventional use) helped me more clearly understand how the logic was flowing.\n",
    "\n",
    "some stuff I did wrong at first \n",
    "\n",
    "- \"row_sums_array_length - 1\" to ensure index 1 alway before index 2 (forgot -1)\n",
    "\n",
    "- \"index_two = index_one + 1\" to make sure never comparing the same indices (forgot the +1)\n"
   ]
  },
  {
   "cell_type": "markdown",
   "metadata": {},
   "source": [
    "<h2>FRQ Type Explanation: Arrays/Array lists</h2>\n",
    "\n",
    "<mark>College board Definition</mark>: Array/ArrayList—Students will be asked to write program code to satisfy method specifications using expressions, conditional statements, and iterative statements and create, traverse, and manipulate elements in 1D array or ArrayList objects.\n",
    "\n",
    "- For part (A), creating the arraySum method was just a simple focus on understanding how to iterate through a one-dimensional array. There were multiple mays to approach it (while or for loop), but since I only needed to access not modify the int values and to avoid having to deal with index out of bounds exceptions I used an enhanced for loop\n",
    "\n",
    "- For part (B), it stepped up a notch to iterating through a two-dimensional array. However, by reusing the arraySum method code it was pretty easy to just use a for loop to iterate through an array that holds the sum of each array.\n",
    "\n",
    "- For part (C), everything came together and I was able to learn how to use pointers in order to compare 2 different variables and check if they are of equal value. Here, I implemented a nested for loop and a conditional statement so that if the two row sums were the same, it would return false. \n",
    "\n",
    "Overall, I think it was pretty clear this FRQ was testing understanding of 1D and 2D arrays---particularly how to iterate through them, access the elmements, and use nested loops and conditional statements to get the desired outcome. One thing I found interesting was how each subsequent part was building off of methods created in the last part. I think in this way it really helped me understanding how a coder can compartamentalize smaller functions within a bigger algorithm so achieving a certain goal does not seem so daunting!!"
   ]
  },
  {
   "cell_type": "markdown",
   "metadata": {},
   "source": [
    "<script src=\"https://utteranc.es/client.js\"\n",
    "        repo=\"e-shen2022/student\"\n",
    "        issue-term=\"pathname\"\n",
    "        theme=\"github-light\"\n",
    "        crossorigin=\"anonymous\"\n",
    "        async>\n",
    "</script>"
   ]
  }
 ],
 "metadata": {
  "kernelspec": {
   "display_name": "Java",
   "language": "java",
   "name": "java"
  },
  "language_info": {
   "codemirror_mode": "java",
   "file_extension": ".jshell",
   "mimetype": "text/x-java-source",
   "name": "java",
   "pygments_lexer": "java",
   "version": "20.0.1"
  }
 },
 "nbformat": 4,
 "nbformat_minor": 2
}
