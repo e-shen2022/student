{
 "cells": [
  {
   "cell_type": "markdown",
   "metadata": {},
   "source": [
    "---\n",
    "toc: true\n",
    "comments: true\n",
    "layout: default\n",
    "title: 2015 FRQ Q2\n",
    "courses: { csa: {week: 16} }\n",
    "type: tangibles\n",
    "---"
   ]
  },
  {
   "cell_type": "markdown",
   "metadata": {},
   "source": [
    "<h1>  2015 FRQ Q2 </h1>"
   ]
  },
  {
   "cell_type": "markdown",
   "metadata": {},
   "source": [
    "<h3>Instructions</h3>\n",
    "\n",
    "Consider a guessing game in which a player tries to guess a hidden word. The hidden word contains only capital letters and has a length known to the player. A guess contains only capital letters and has the same length as the hidden word.\n",
    "\n",
    "After a guess is made, the player is given a hint that is based on a comparison between the hidden word and the guess. Each position in the hint contains a character that corresponds to the letter in the same position in the guess. The following rules determine the characters that appear in the hint.\n",
    "\n",
    "![](https://github.com/e-shen2022/student/assets/104966589/be768cde-5530-4801-90c1-bc83e1f19fb9)\n",
    "\n",
    "The HiddenWord class will be used to represent the hidden word in the game. The hidden word is passed to the constructor. The class contains a method, getHint, that takes a guess and produces a hint. \n",
    "\n",
    "For example, suppose the variable puzzle is declared as follows.\n",
    "\n",
    "HiddenWord puzzle = new HiddenWord(\"HARPS\");\n",
    "\n",
    "The following table shows several guesses and the hints that would be produced.\n",
    "\n",
    "![](https://github.com/e-shen2022/student/assets/104966589/385a05f8-76bf-4a3c-95b6-a55f77219e92)\n",
    "\n",
    "Write the complete HiddenWord class, including any necessary instance variables, its constructor, and the method, getHint, described above. You may assume that the length of the guess is the same as the length of the hidden word.\n",
    "\n"
   ]
  },
  {
   "cell_type": "code",
   "execution_count": 3,
   "metadata": {},
   "outputs": [
    {
     "name": "stdout",
     "output_type": "stream",
     "text": [
      "Guess the hidden word! (input must be in all caps and 5 letters long):\n",
      "Your guess: Hint: +A+++\n",
      "Wrong :( Try Again!\n",
      "Your guess: Hint: H****\n",
      "Wrong :( Try Again!\n",
      "Your guess: Hint: H*++*\n",
      "Wrong :( Try Again!\n",
      "Your guess: Hint: HAR*S\n",
      "Wrong :( Try Again!\n",
      "Your guess: Hint: HARPS\n",
      "Congratulations! You've guessed the word!\n"
     ]
    }
   ],
   "source": [
    "public class HiddenWord \n",
    "{\n",
    "    private String concealed; \n",
    "\n",
    "    // constructor to initialize the concealed word\n",
    "    public HiddenWord(String c)\n",
    "    {\n",
    "        concealed = c; \n",
    "    }\n",
    "\n",
    "    // method to generate hint based on the guess\n",
    "    public String getHint(String guess)\n",
    "    {\n",
    "        String result = \"\";\n",
    "        for (int i = 0; i < guess.length(); i++)\n",
    "        {\n",
    "            // gets letter from concealed word\n",
    "            String chunk = concealed.substring(i, i+1);\n",
    "            String nugget = guess.substring(i, i+1);\n",
    "\n",
    "            // if correct letter and right position\n",
    "            if (chunk.equals(nugget))\n",
    "            {\n",
    "                result += chunk; \n",
    "            }\n",
    "\n",
    "            // if letter is in that word but not in right position\n",
    "            else if (concealed.indexOf(nugget) != -1)\n",
    "            {\n",
    "                result += \"+\";\n",
    "            }\n",
    "\n",
    "            //if letter not in concealed string at all \n",
    "            else \n",
    "            {\n",
    "                result += \"*\";\n",
    "            }\n",
    "        }\n",
    "        return result; \n",
    "    }\n",
    "\n",
    "    public static void main(String[] args) {\n",
    "        HiddenWord puzzle = new HiddenWord(\"HARPS\");\n",
    "        Scanner scanner = new Scanner(System.in);\n",
    "\n",
    "        System.out.println(\"Guess the hidden word! (input must be in all caps and 5 letters long):\");\n",
    "\n",
    "        boolean guessedCorrectly = false;\n",
    "        while (!guessedCorrectly) {\n",
    "            System.out.print(\"Your guess: \");\n",
    "            String guess = scanner.nextLine();\n",
    "\n",
    "            // get hint and display it \n",
    "            String result = puzzle.getHint(guess);\n",
    "            System.out.println(\"Hint: \" + result);\n",
    "\n",
    "            // check if guess is correct\n",
    "            if (result.equals(puzzle.concealed)) {\n",
    "                System.out.println(\"Congratulations! You've guessed the word!\");\n",
    "                guessedCorrectly = true;\n",
    "            } else {\n",
    "                System.out.println(\"Wrong :( Try Again!\");\n",
    "            }\n",
    "        }\n",
    "        scanner.close();\n",
    "    }\n",
    "}\n",
    "HiddenWord.main(null);"
   ]
  },
  {
   "cell_type": "markdown",
   "metadata": {},
   "source": [
    "<h3>Notes</h3>\n",
    "\n",
    "I was REALLY stumped at first of how to approach this problem at first but W3Schools came in clutch to introduce to me the <b>\"indexOf method\"</b>. Based on its documentation and examples it seems to me that it is a built-in method that belongs to String class and is commonly used to find the index of the first occurence of a specific substring or character within a string. In the context of this FRQ, it is what allows me to find index where nugget (correct letter) isn't concealed. I don't really care where index is and just care if in there or not. It was most useful to learn that if nugget not in concealed string it will return -1 and I used this to cover the condition when the nugget is there but just not in correct position"
   ]
  },
  {
   "cell_type": "markdown",
   "metadata": {},
   "source": [
    "<h3>FRQ Type Explanation: Classes</h3>\n",
    "\n",
    "<mark>College board definition</mark>: Classes—Students will be asked to write program code to define a new type by creating a class and satisfy method specifications using expressions, conditional statements, and iterative statements.\n",
    "\n",
    "So this FRQ I believe is a pretty standard set up of how to create a class. \n",
    "\n",
    "- It begins with making sure to know when to declare something as private or public. Since my group did the lesson about classes I remember pretty clearily to make classes and constructors public and instance variables private to restrict access to the declaring class. Methods can be either public or private. \n",
    "- There is the use of the HiddenWord constructor to intialize the concealed word\n",
    "- The getHint method holds all of the game logic that generates a hint based on user's guess\n",
    "- Of course can never forget to construct the main method where you can test if your logic method actually works with some sample hard-coded words. This is also where we can see the resemblance of a \"getter method\" when get hint from puzzle and checks if it is right"
   ]
  }
 ],
 "metadata": {
  "kernelspec": {
   "display_name": "Java",
   "language": "java",
   "name": "java"
  },
  "language_info": {
   "codemirror_mode": "java",
   "file_extension": ".jshell",
   "mimetype": "text/x-java-source",
   "name": "java",
   "pygments_lexer": "java",
   "version": "20.0.1"
  }
 },
 "nbformat": 4,
 "nbformat_minor": 2
}
