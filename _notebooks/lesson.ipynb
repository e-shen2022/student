{
 "cells": [
  {
   "cell_type": "markdown",
   "metadata": {},
   "source": [
    "---\n",
    "comments: true\n",
    "layout: notebook\n",
    "title: Deployment\n",
    "description: An in depth deployment lesson \n",
    "type: hacks\n",
    "toc: true\n",
    "courses: { csa: {week: 18} }\n",
    "---"
   ]
  },
  {
   "cell_type": "markdown",
   "metadata": {},
   "source": [
    "# CORS\n",
    "- Cross-Origin Resource Sharing (CORS) is a security feature implemented by web browsers to control how web pages in one domain can request and interact with resources from another domain.\n",
    "[corserror](/images/cors.png)\n",
    "\n",
    "- CORS is a set of rules that enable or restrict cross-origin (cross-site) HTTP requests made by scripts running on a web page. \n",
    "- It helps to prevent potentially harmful requests and enhances web security which is why it is so important\n",
    "\n",
    "## Implementation on the Backend\n",
    "1. MvcConfig.java"
   ]
  },
  {
   "cell_type": "code",
   "execution_count": null,
   "metadata": {
    "vscode": {
     "languageId": "java"
    }
   },
   "outputs": [],
   "source": [
    "package com.nighthawk.spring_portfolio;\n",
    "import org.springframework.context.annotation.*;\n",
    "import org.springframework.web.servlet.config.annotation.*;\n",
    "\n",
    "@Configuration\n",
    "public class MvcConfig implements WebMvcConfigurer {\n",
    "\n",
    "    // This method sets up a custom index page for the \"/login\" path\n",
    "    // Defines how the login page is accessed within app\n",
    "    @Override\n",
    "    public void addViewControllers(ViewControllerRegistry registry) {\n",
    "        registry.addViewController(\"/login\").setViewName(\"login\");\n",
    "    }\n",
    "\n",
    "    // Configures the location for uploaded files outside the app's resources\n",
    "    // CRUCIAL for file upload functionality -> make sure files stored and can be accessed properly by frontend\n",
    "    @Override\n",
    "    public void addResourceHandlers(final ResourceHandlerRegistry registry) {\n",
    "        registry.addResourceHandler(\"/volumes/uploads/**\").addResourceLocations(\"file:volumes/uploads/\");\n",
    "    }\n",
    "\n",
    "    // Sets up CORS settings --> allows requests from specified origins \n",
    "    // This case is GitHub Pages site & local dev site\n",
    "    @Override\n",
    "    public void addCorsMappings(CorsRegistry registry) {\n",
    "        registry.addMapping(\"/**\").allowedOrigins(\"https://nighthawkcoders.github.io\", \"http://localhost:4000\");\n",
    "    }\n",
    "}"
   ]
  },
  {
   "cell_type": "markdown",
   "metadata": {},
   "source": [
    "2. Securityconfig.java"
   ]
  },
  {
   "cell_type": "code",
   "execution_count": null,
   "metadata": {
    "vscode": {
     "languageId": "java"
    }
   },
   "outputs": [],
   "source": [
    "// Configure security settings for Spring app \n",
    "\n",
    "@Configuration\n",
    "@EnableWebSecurity  // Enable basic Web security features\n",
    "@EnableMethodSecurity(prePostEnabled = true)\n",
    "public class SecurityConfig {\n",
    "\n",
    "    @Autowired\n",
    "\tprivate JwtAuthenticationEntryPoint jwtAuthenticationEntryPoint;\n",
    "\n",
    "\t@Autowired\n",
    "\tprivate JwtRequestFilter jwtRequestFilter;\n",
    "\n",
    "\t@Autowired\n",
    "\tprivate PersonDetailsService personDetailsService;\n",
    "\n",
    "    // @Bean  // Sets up password encoding style\n",
    "    PasswordEncoder passwordEncoder(){\n",
    "        return new BCryptPasswordEncoder();\n",
    "    }\n",
    "\n",
    "\t// Configures the authentication manager to load user details \n",
    "\t@Autowired\n",
    "\tpublic void configureGlobal(AuthenticationManagerBuilder auth) throws Exception {\n",
    "\t\tauth.userDetailsService(personDetailsService).passwordEncoder(passwordEncoder());\n",
    "\t}\n",
    "\n",
    "\t@Bean\n",
    "\tpublic AuthenticationManager authenticationManager(AuthenticationConfiguration authenticationConfiguration) throws Exception {\n",
    "\t\treturn authenticationConfiguration.getAuthenticationManager();\n",
    "\t}\n",
    "\t\n",
    "    // Configure security settings, including CORS \n",
    "\t\t@Bean\n",
    "\t\tpublic SecurityFilterChain filterChain(HttpSecurity http) throws Exception {\n",
    "\t\t\thttp\n",
    "\t\t\t\t.csrf(csrf -> csrf\n",
    "\t\t\t\t\t.disable()\n",
    "\t\t\t\t)\n",
    "\t\t\t\t// List the requests/endpoints that need to be authenticated\n",
    "\t\t\t\t.authorizeHttpRequests(auth -> auth\n",
    "\t\t\t\t\t.requestMatchers(\"/authenticate\").permitAll()\n",
    "\t\t\t\t\t.requestMatchers(\"/mvc/person/update/**\", \"/mvc/person/delete/**\").authenticated()\n",
    "\t\t\t\t\t.requestMatchers(\"/api/person/post/**\", \"/api/person/delete/**\").authenticated()\n",
    "\t\t\t\t\t.requestMatchers(\"/**\").permitAll()\n",
    "\t\t\t\t)\n",
    "\t\t\t\t// CORS support is enabled within the security configuration\n",
    "\t\t\t\t.cors(Customizer.withDefaults())\n",
    "\t\t\t\t// Set up specific headers related to CORS\n",
    "\t\t\t\t// Ensure that the necessary headers are included in the HTTP responses\n",
    "\t\t\t\t.headers(headers -> headers\n",
    "\t\t\t\t\t.addHeaderWriter(new StaticHeadersWriter(\"Access-Control-Allow-Credentials\", \"true\"))\n",
    "\t\t\t\t\t.addHeaderWriter(new StaticHeadersWriter(\"Access-Control-Allow-ExposedHeaders\", \"*\", \"Authorization\"))\n",
    "\t\t\t\t\t.addHeaderWriter(new StaticHeadersWriter(\"Access-Control-Allow-Headers\", \"Content-Type\", \"Authorization\", \"x-csrf-token\"))\n",
    "\t\t\t\t\t.addHeaderWriter(new StaticHeadersWriter(\"Access-Control-Allow-MaxAge\", \"600\"))\n",
    "\t\t\t\t\t.addHeaderWriter(new StaticHeadersWriter(\"Access-Control-Allow-Methods\", \"POST\", \"GET\", \"OPTIONS\", \"HEAD\"))\n",
    "\t\t\t\t\t//.addHeaderWriter(new StaticHeadersWriter(\"Access-Control-Allow-Origin\", \"https://nighthawkcoders.github.io\", \"http://localhost:4000\"))\n",
    "\t\t\t\t)\n",
    "\t\t\t\t.formLogin(form -> form \n",
    "\t\t\t\t\t.loginPage(\"/login\")\n",
    "\t\t\t\t)\n",
    "\t\t\t\t.logout(logout -> logout\n",
    "\t\t\t\t\t.logoutRequestMatcher(new AntPathRequestMatcher(\"/logout\"))\n",
    "\t\t\t\t\t.logoutSuccessUrl(\"/\")\n",
    "\t\t\t\t)\n",
    "\t\t\t\t.exceptionHandling(exceptions -> exceptions\n",
    "\t\t\t\t\t.authenticationEntryPoint(jwtAuthenticationEntryPoint)\n",
    "\t\t\t\t)\n",
    "\t\t\t\t// Configures the session management to use a stateless approach--> Server does not store session information on the server-side between requests --> all the necessary information for authentication is contained within each request\n",
    "\t\t\t\t// Pro: more scalable, servers can handle requests independently \n",
    "\t\t\t\t.sessionManagement(session -> session\n",
    "\t\t\t\t\t.sessionCreationPolicy(SessionCreationPolicy.STATELESS)\n",
    "\t\t\t\t)\n",
    "\t\t\t\t// Add a filter to validate the tokens with every request\n",
    "\t\t\t\t.addFilterBefore(jwtRequestFilter, UsernamePasswordAuthenticationFilter.class);\n",
    "\t\t\treturn http.build();\n",
    "\t}\n",
    "}\n"
   ]
  }
 ],
 "metadata": {
  "language_info": {
   "name": "python"
  }
 },
 "nbformat": 4,
 "nbformat_minor": 2
}
