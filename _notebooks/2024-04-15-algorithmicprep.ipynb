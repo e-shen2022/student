{
 "cells": [
  {
   "cell_type": "markdown",
   "metadata": {},
   "source": [
    "---\n",
    "toc: true \n",
    "comments: true \n",
    "layout: post \n",
    "title: Algorithmic Code Prep \n",
    "type: hacks \n",
    "courses: { csse: {week: 1}, csp: {week: 1, categories: [4.A]}, csa: {week: 26}} \n",
    "---"
   ]
  },
  {
   "cell_type": "markdown",
   "metadata": {},
   "source": [
    "<h2> Our Algorithmic Dance! </h2>\n",
    "\n",
    "- Our whole gig is that there is this very sought out for bachelorette named Rachilita and there is a roster of 12 bachelors trying to woo her with code pick up lines\n",
    "- Rachilita ranks each bachelors' pick up line from 1 to 12 (1 the best, 12 the worst) and needs our help to sort them all in order!!"
   ]
  },
  {
   "cell_type": "markdown",
   "metadata": {},
   "source": [
    "<h2> Learn all sort </h2>\n",
    "\n",
    "- Build into this Jupyter Notebook(s) for Bubble Sort, Selection Sort, Insertion Sort, Merge Sort, Quick Sort. Share solutions.\n",
    "- Build into this Jupyter Notebooks Tester methods that runs each Sort\n",
    "- Build your sorts into Generic T List (aka Collectable) extending Comparable using compareTo to sort the objects.\n",
    "\n",
    "<b>Notes</b>: \n",
    "- implementing Comparable interface: a class gains the ability to compare its instances with other instances of the same class --> useful for sorting and ordering objects, as it provides a standard way to determine their relative positions\n",
    "- compareTo method: compares 2 objects of the same class and determines their relative ordering \n",
    "\n",
    "1. if the current object is less than the object being compared to, compareTo should return a negative integer.\n",
    "2. if the current object is equal to the object being compared to, compareTo should return 0.\n",
    "3. ithe current object is greater than the object being compared to, compareTo should return a positive integer."
   ]
  },
  {
   "cell_type": "code",
   "execution_count": 4,
   "metadata": {
    "vscode": {
     "languageId": "java"
    }
   },
   "outputs": [
    {
     "name": "stdout",
     "output_type": "stream",
     "text": [
      "Original List:\n",
      "Bachelor: Grace| Pick up line Rating: 7\n",
      "Bachelor: Emma| Pick up line Rating: 6\n",
      "Bachelor: Theo| Pick up line Rating: 1\n",
      "Bachelor: Vivian| Pick up line Rating: 8\n",
      "Bachelor: Rayhan| Pick up line Rating: 9\n",
      "Bachelor: Aliya| Pick up line Rating: 5\n",
      "Bachelor: Shivansh| Pick up line Rating: 12\n",
      "Bachelor: Pranavi| Pick up line Rating: 10\n",
      "Bachelor: Luna| Pick up line Rating: 3\n",
      "Bachelor: Finn| Pick up line Rating: 4\n",
      "Bachelor: Justin| Pick up line Rating: 2\n",
      "Bachelor: Isabelle| Pick up line Rating: 11\n"
     ]
    }
   ],
   "source": [
    "import java.util.ArrayList;\n",
    "import java.util.Collections;\n",
    "\n",
    "public class Bachelor implements Comparable<Bachelor> {\n",
    "    private String name;\n",
    "    private int rating;\n",
    "\n",
    "    // Overloaded constructor \n",
    "    public Bachelor(String name, int rating) {\n",
    "        this.name = name;\n",
    "        this.rating = rating;\n",
    "    }\n",
    "\n",
    "    // Getter methods\n",
    "    public String getName() {\n",
    "        return name;\n",
    "    }\n",
    "\n",
    "    public int getRating() {\n",
    "        return rating;\n",
    "    }\n",
    "\n",
    "    @Override\n",
    "    // compareTo method\n",
    "    public int compareTo(Bachelor other) {\n",
    "        return Integer.compare(this.rating, other.rating);\n",
    "    }\n",
    "\n",
    "    // bachelors in actual performance \n",
    "    public static ArrayList<Bachelor> createList() {\n",
    "        Bachelor b1 = new Bachelor(\"Theo\", 1);\n",
    "        Bachelor b2 = new Bachelor(\"Justin\", 2);\n",
    "        Bachelor b3 = new Bachelor(\"Luna\", 3);\n",
    "        Bachelor b4 = new Bachelor(\"Finn\", 4);\n",
    "        Bachelor b5 = new Bachelor(\"Aliya\", 5);\n",
    "        Bachelor b6 = new Bachelor(\"Emma\", 6);\n",
    "        Bachelor b7 = new Bachelor(\"Grace\", 7);\n",
    "        Bachelor b8 = new Bachelor(\"Vivian\", 8);\n",
    "        Bachelor b9 = new Bachelor(\"Rayhan\", 9);\n",
    "        Bachelor b10 = new Bachelor(\"Pranavi\", 10);\n",
    "        Bachelor b11 = new Bachelor(\"Isabelle\", 11);\n",
    "        Bachelor b12 = new Bachelor(\"Shivansh\", 12);\n",
    "\n",
    "        // Create list of Bachelor objects\n",
    "        ArrayList<Bachelor> bachelorList = new ArrayList<>();\n",
    "        bachelorList.add(b1);\n",
    "        bachelorList.add(b2);\n",
    "        bachelorList.add(b3);\n",
    "        bachelorList.add(b4);\n",
    "        bachelorList.add(b5);\n",
    "        bachelorList.add(b6);\n",
    "        bachelorList.add(b7);\n",
    "        bachelorList.add(b8);\n",
    "        bachelorList.add(b9);\n",
    "        bachelorList.add(b10);\n",
    "        bachelorList.add(b11);\n",
    "        bachelorList.add(b12);\n",
    "\n",
    "        // shuffle them !!!\n",
    "        Collections.shuffle(bachelorList);\n",
    "\n",
    "        return bachelorList;\n",
    "    }\n",
    "\n",
    "    public static void main(String[] args) {\n",
    "        // creating objects of Bachelor\n",
    "        ArrayList<Bachelor> bachelorList = createList();\n",
    "\n",
    "        // print original list\n",
    "        System.out.println(\"Original List:\");\n",
    "        for (Bachelor bachelor : bachelorList) {\n",
    "            System.out.println(\"Bachelor: \" + bachelor.getName() + \"| Pick up line Rating: \" + bachelor.getRating());\n",
    "        }\n",
    "    }\n",
    "}\n",
    "Bachelor.main(null);"
   ]
  },
  {
   "cell_type": "markdown",
   "metadata": {},
   "source": [
    "<h3> Bubble sort (fav) </h3>"
   ]
  },
  {
   "cell_type": "code",
   "execution_count": 10,
   "metadata": {
    "vscode": {
     "languageId": "java"
    }
   },
   "outputs": [
    {
     "name": "stdout",
     "output_type": "stream",
     "text": [
      "Original List:\n",
      "Bachelor: Grace| Pick up line rating: 7\n",
      "Bachelor: Aliya| Pick up line rating: 5\n",
      "Bachelor: Pranavi| Pick up line rating: 10\n",
      "Bachelor: Rayhan| Pick up line rating: 9\n",
      "Bachelor: Isabelle| Pick up line rating: 11\n",
      "Bachelor: Luna| Pick up line rating: 3\n",
      "Bachelor: Theo| Pick up line rating: 1\n",
      "Bachelor: Emma| Pick up line rating: 6\n",
      "Bachelor: Finn| Pick up line rating: 4\n",
      "Bachelor: Shivansh| Pick up line rating: 12\n",
      "Bachelor: Justin| Pick up line rating: 2\n",
      "Bachelor: Vivian| Pick up line rating: 8\n",
      "\n",
      "Sorted List:\n",
      "Bachelor: Theo| Pick up line rating: 1\n",
      "Bachelor: Justin| Pick up line rating: 2\n",
      "Bachelor: Luna| Pick up line rating: 3\n",
      "Bachelor: Finn| Pick up line rating: 4\n",
      "Bachelor: Aliya| Pick up line rating: 5\n",
      "Bachelor: Emma| Pick up line rating: 6\n",
      "Bachelor: Grace| Pick up line rating: 7\n",
      "Bachelor: Vivian| Pick up line rating: 8\n",
      "Bachelor: Rayhan| Pick up line rating: 9\n",
      "Bachelor: Pranavi| Pick up line rating: 10\n",
      "Bachelor: Isabelle| Pick up line rating: 11\n",
      "Bachelor: Shivansh| Pick up line rating: 12\n"
     ]
    }
   ],
   "source": [
    "import java.util.ArrayList;\n",
    "import java.util.Collections;\n",
    "\n",
    "public class BachelorBubbleSort {\n",
    "    public static void bubbleSort(ArrayList<Bachelor> bachelors) {\n",
    "        int n = bachelors.size();\n",
    "        for (int i = 0; i < n - 1; i++) {\n",
    "            for (int j = 0; j < n - i - 1; j++) {\n",
    "                if (bachelors.get(j).compareTo(bachelors.get(j + 1)) > 0) {\n",
    "                    // swap bachelors\n",
    "                    Collections.swap(bachelors, j, j + 1);\n",
    "                }\n",
    "            }\n",
    "        }\n",
    "    }\n",
    "\n",
    "    public static void main(String[] args) {\n",
    "        // create a list of Bachelor objects\n",
    "        ArrayList<Bachelor> bachelorList = Bachelor.createList();\n",
    "\n",
    "        // print original list\n",
    "        System.out.println(\"Original List:\");\n",
    "        for (Bachelor bachelor : bachelorList) {\n",
    "            System.out.println(\"Bachelor: \" + bachelor.getName() + \"| Pick up line rating: \" + bachelor.getRating());\n",
    "        }\n",
    "\n",
    "        // sort the list using Bubble Sort\n",
    "        bubbleSort(bachelorList);\n",
    "\n",
    "        // print sorted list\n",
    "        System.out.println(\"\\nSorted List:\");\n",
    "        for (Bachelor bachelor : bachelorList) {\n",
    "            System.out.println(\"Bachelor: \" + bachelor.getName() + \"| Pick up line rating: \" + bachelor.getRating());\n",
    "        }\n",
    "    }\n",
    "}\n",
    "BachelorBubbleSort.main(null);"
   ]
  },
  {
   "cell_type": "markdown",
   "metadata": {},
   "source": [
    "<h3>Insertion sort </h3>"
   ]
  },
  {
   "cell_type": "code",
   "execution_count": 11,
   "metadata": {
    "vscode": {
     "languageId": "java"
    }
   },
   "outputs": [
    {
     "name": "stdout",
     "output_type": "stream",
     "text": [
      "Original List:\n",
      "Bachelor: Pranavi| Pick up line rating: 10\n",
      "Bachelor: Vivian| Pick up line rating: 8\n",
      "Bachelor: Luna| Pick up line rating: 3\n",
      "Bachelor: Isabelle| Pick up line rating: 11\n",
      "Bachelor: Aliya| Pick up line rating: 5\n",
      "Bachelor: Rayhan| Pick up line rating: 9\n",
      "Bachelor: Finn| Pick up line rating: 4\n",
      "Bachelor: Justin| Pick up line rating: 2\n",
      "Bachelor: Theo| Pick up line rating: 1\n",
      "Bachelor: Shivansh| Pick up line rating: 12\n",
      "Bachelor: Grace| Pick up line rating: 7\n",
      "Bachelor: Emma| Pick up line rating: 6\n",
      "\n",
      "Sorted List:\n",
      "Bachelor: Theo| Pick up line rating: 1\n",
      "Bachelor: Justin| Pick up line rating: 2\n",
      "Bachelor: Luna| Pick up line rating: 3\n",
      "Bachelor: Finn| Pick up line rating: 4\n",
      "Bachelor: Aliya| Pick up line rating: 5\n",
      "Bachelor: Emma| Pick up line rating: 6\n",
      "Bachelor: Grace| Pick up line rating: 7\n",
      "Bachelor: Vivian| Pick up line rating: 8\n",
      "Bachelor: Rayhan| Pick up line rating: 9\n",
      "Bachelor: Pranavi| Pick up line rating: 10\n",
      "Bachelor: Isabelle| Pick up line rating: 11\n",
      "Bachelor: Shivansh| Pick up line rating: 12\n"
     ]
    }
   ],
   "source": [
    "import java.util.ArrayList;\n",
    "\n",
    "public class BachelorInsertionSort {\n",
    "    public static void insertionSort(ArrayList<Bachelor> bachelors) {\n",
    "        int n = bachelors.size();\n",
    "        for (int i = 1; i < n; i++) {\n",
    "            Bachelor key = bachelors.get(i);\n",
    "            int j = i - 1;\n",
    "            while (j >= 0 && bachelors.get(j).compareTo(key) > 0) {\n",
    "                bachelors.set(j + 1, bachelors.get(j));\n",
    "                j = j - 1;\n",
    "            }\n",
    "            bachelors.set(j + 1, key);\n",
    "        }\n",
    "    }\n",
    "\n",
    "    public static void main(String[] args) {\n",
    "        // Create a list of Bachelor objects\n",
    "        ArrayList<Bachelor> bachelorList = Bachelor.createList();\n",
    "\n",
    "        // Print original list\n",
    "        System.out.println(\"Original List:\");\n",
    "        for (Bachelor bachelor : bachelorList) {\n",
    "            System.out.println(\"Bachelor: \" + bachelor.getName() + \"| Pick up line rating: \" + bachelor.getRating());\n",
    "        }\n",
    "\n",
    "        // Sort the list using Insertion Sort\n",
    "        insertionSort(bachelorList);\n",
    "\n",
    "        // Print sorted list\n",
    "        System.out.println(\"\\nSorted List:\");\n",
    "        for (Bachelor bachelor : bachelorList) {\n",
    "            System.out.println(\"Bachelor: \" + bachelor.getName() + \"| Pick up line rating: \" + bachelor.getRating());\n",
    "        }\n",
    "    }\n",
    "}\n",
    "BachelorInsertionSort.main(null);"
   ]
  },
  {
   "cell_type": "markdown",
   "metadata": {},
   "source": [
    "<h3>Selection sort</h3>"
   ]
  },
  {
   "cell_type": "code",
   "execution_count": 12,
   "metadata": {
    "vscode": {
     "languageId": "java"
    }
   },
   "outputs": [
    {
     "name": "stdout",
     "output_type": "stream",
     "text": [
      "Original List:\n",
      "Bachelor: Isabelle| Pick up line rating: 11\n",
      "Bachelor: Aliya| Pick up line rating: 5\n",
      "Bachelor: Grace| Pick up line rating: 7\n",
      "Bachelor: Shivansh| Pick up line rating: 12\n",
      "Bachelor: Emma| Pick up line rating: 6\n",
      "Bachelor: Theo| Pick up line rating: 1\n",
      "Bachelor: Luna| Pick up line rating: 3\n",
      "Bachelor: Finn| Pick up line rating: 4\n",
      "Bachelor: Rayhan| Pick up line rating: 9\n",
      "Bachelor: Justin| Pick up line rating: 2\n",
      "Bachelor: Vivian| Pick up line rating: 8\n",
      "Bachelor: Pranavi| Pick up line rating: 10\n",
      "\n",
      "Sorted List:\n",
      "Bachelor: Theo| Pick up line rating: 1\n",
      "Bachelor: Justin| Pick up line rating: 2\n",
      "Bachelor: Luna| Pick up line rating: 3\n",
      "Bachelor: Finn| Pick up line rating: 4\n",
      "Bachelor: Aliya| Pick up line rating: 5\n",
      "Bachelor: Emma| Pick up line rating: 6\n",
      "Bachelor: Grace| Pick up line rating: 7\n",
      "Bachelor: Vivian| Pick up line rating: 8\n",
      "Bachelor: Rayhan| Pick up line rating: 9\n",
      "Bachelor: Pranavi| Pick up line rating: 10\n",
      "Bachelor: Isabelle| Pick up line rating: 11\n",
      "Bachelor: Shivansh| Pick up line rating: 12\n"
     ]
    }
   ],
   "source": [
    "import java.util.ArrayList;\n",
    "\n",
    "public class BachelorInsertionSort {\n",
    "    public static void insertionSort(ArrayList<Bachelor> bachelors) {\n",
    "        int n = bachelors.size();\n",
    "        for (int i = 1; i < n; i++) {\n",
    "            Bachelor key = bachelors.get(i);\n",
    "            int j = i - 1;\n",
    "            while (j >= 0 && bachelors.get(j).compareTo(key) > 0) {\n",
    "                bachelors.set(j + 1, bachelors.get(j));\n",
    "                j = j - 1;\n",
    "            }\n",
    "            bachelors.set(j + 1, key);\n",
    "        }\n",
    "    }\n",
    "\n",
    "    public static void main(String[] args) {\n",
    "        // Create a list of Bachelor objects\n",
    "        ArrayList<Bachelor> bachelorList = Bachelor.createList();\n",
    "\n",
    "        // Print original list\n",
    "        System.out.println(\"Original List:\");\n",
    "        for (Bachelor bachelor : bachelorList) {\n",
    "            System.out.println(\"Bachelor: \" + bachelor.getName() + \"| Pick up line rating: \" + bachelor.getRating());\n",
    "        }\n",
    "\n",
    "        // Sort the list using Insertion Sort\n",
    "        insertionSort(bachelorList);\n",
    "\n",
    "        // Print sorted list\n",
    "        System.out.println(\"\\nSorted List:\");\n",
    "        for (Bachelor bachelor : bachelorList) {\n",
    "            System.out.println(\"Bachelor: \" + bachelor.getName() + \"| Pick up line rating: \" + bachelor.getRating());\n",
    "        }\n",
    "    }\n",
    "}\n",
    "BachelorInsertionSort.main(null);"
   ]
  },
  {
   "cell_type": "markdown",
   "metadata": {},
   "source": [
    "<h3> Merge sort </h3>"
   ]
  },
  {
   "cell_type": "code",
   "execution_count": 8,
   "metadata": {
    "vscode": {
     "languageId": "java"
    }
   },
   "outputs": [
    {
     "name": "stdout",
     "output_type": "stream",
     "text": [
      "Original List:\n",
      "Finn (4)\n",
      "Luna (3)\n",
      "Emma (6)\n",
      "Grace (7)\n",
      "Theo (1)\n",
      "Justin (2)\n",
      "Pranavi (10)\n",
      "Rayhan (9)\n",
      "Isabelle (11)\n",
      "Shivansh (12)\n",
      "Vivian (8)\n",
      "Aliya (5)\n",
      "\n",
      "Sorted List:\n",
      "Theo (1)\n",
      "Justin (2)\n",
      "Luna (3)\n",
      "Finn (4)\n",
      "Aliya (5)\n",
      "Emma (6)\n",
      "Grace (7)\n",
      "Vivian (8)\n",
      "Rayhan (9)\n",
      "Pranavi (10)\n",
      "Isabelle (11)\n",
      "Shivansh (12)\n"
     ]
    }
   ],
   "source": [
    "import java.util.ArrayList;\n",
    "\n",
    "public class BachelorMergeSort {\n",
    "\n",
    "    public static void mergeSort(ArrayList<Bachelor> bachelors) {\n",
    "        if (bachelors.size() > 1) {\n",
    "            int mid = bachelors.size() / 2;\n",
    "\n",
    "            // Split the list into two halves\n",
    "            ArrayList<Bachelor> leftHalf = new ArrayList<>(bachelors.subList(0, mid));\n",
    "            ArrayList<Bachelor> rightHalf = new ArrayList<>(bachelors.subList(mid, bachelors.size()));\n",
    "\n",
    "            // Recursively sort each half\n",
    "            mergeSort(leftHalf);\n",
    "            mergeSort(rightHalf);\n",
    "\n",
    "            // Merge the sorted halves\n",
    "            int i = 0, j = 0, k = 0;\n",
    "            while (i < leftHalf.size() && j < rightHalf.size()) {\n",
    "                if (leftHalf.get(i).compareTo(rightHalf.get(j)) <= 0) {\n",
    "                    bachelors.set(k++, leftHalf.get(i++));\n",
    "                } else {\n",
    "                    bachelors.set(k++, rightHalf.get(j++));\n",
    "                }\n",
    "            }\n",
    "\n",
    "            // Copy remaining elements from left half\n",
    "            while (i < leftHalf.size()) {\n",
    "                bachelors.set(k++, leftHalf.get(i++));\n",
    "            }\n",
    "\n",
    "            // Copy remaining elements from right half\n",
    "            while (j < rightHalf.size()) {\n",
    "                bachelors.set(k++, rightHalf.get(j++));\n",
    "            }\n",
    "        }\n",
    "    }\n",
    "\n",
    "    public static void main(String[] args) {\n",
    "        ArrayList<Bachelor> bachelorList = Bachelor.createList();\n",
    "        \n",
    "        // Printing the original list of bachelors\n",
    "        System.out.println(\"Original List:\");\n",
    "        for (Bachelor bachelor : bachelorList) {\n",
    "            System.out.println(bachelor.getName() + \" (\" + bachelor.getRating() + \")\");\n",
    "        }\n",
    "\n",
    "        // Applying merge sort\n",
    "        mergeSort(bachelorList);\n",
    "\n",
    "        // Printing the sorted list of bachelors\n",
    "        System.out.println(\"\\nSorted List:\");\n",
    "        for (Bachelor bachelor : bachelorList) {\n",
    "            System.out.println(bachelor.getName() + \" (\" + bachelor.getRating() + \")\");\n",
    "        }\n",
    "    }\n",
    "}\n",
    "\n",
    "BachelorMergeSort.main(null);"
   ]
  },
  {
   "cell_type": "markdown",
   "metadata": {},
   "source": [
    "<h1>Learn Algorithmic Sort in depth</h1\n",
    "\n",
    "Build your performance sort into your custom built collection, aka List\n",
    "Implement a Sort into your List in Jupyter Notebook\n",
    "- Utilize Capabilities of Object overrides with toString and compareTo to Sort using Object overrides (these are built in by extending Collectable)\n",
    "\n",
    "Build toString to return JSON for List, Queue and/or Stack so they could be utilized with API.\n",
    "- Demonstrate changing Sort keys with Tester Methods"
   ]
  }
 ],
 "metadata": {
  "kernelspec": {
   "display_name": "Java",
   "language": "java",
   "name": "java"
  },
  "language_info": {
   "codemirror_mode": "java",
   "file_extension": ".jshell",
   "mimetype": "text/x-java-source",
   "name": "Java",
   "pygments_lexer": "java",
   "version": "20.0.1"
  }
 },
 "nbformat": 4,
 "nbformat_minor": 2
}
