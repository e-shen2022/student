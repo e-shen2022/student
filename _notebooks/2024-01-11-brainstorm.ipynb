{
 "cells": [
  {
   "cell_type": "code",
   "execution_count": null,
   "metadata": {
    "vscode": {
     "languageId": "plaintext"
    }
   },
   "outputs": [],
   "source": [
    "---\n",
    "layout: notebook\n",
    "title: Brainstorm \n",
    "type: hacks\n",
    "courses: { csa: {week: 17} }\n",
    "---"
   ]
  },
  {
   "cell_type": "markdown",
   "metadata": {},
   "source": [
    "[Brainstorm](https://github.com/GAVE-CSA/GAVE-frontend/issues/1)"
   ]
  }
 ],
 "metadata": {
  "language_info": {
   "name": "python"
  }
 },
 "nbformat": 4,
 "nbformat_minor": 2
}
