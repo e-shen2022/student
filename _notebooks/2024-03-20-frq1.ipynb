{
 "cells": [
  {
   "cell_type": "markdown",
   "metadata": {},
   "source": [
    "---\n",
    "toc: true\n",
    "comments: true\n",
    "layout: default\n",
    "title: FRQ 1 Hacks \n",
    "courses: { csa: {week: 25} }\n",
    "type: hacks\n",
    "---"
   ]
  },
  {
   "cell_type": "markdown",
   "metadata": {},
   "source": [
    "<h2>Question 1: Primitive Types vs Reference Types (Unit 1)</h2>\n",
    "\n",
    "<b>Part 1 - Multiple Choice </b>"
   ]
  },
  {
   "cell_type": "code",
   "execution_count": null,
   "metadata": {},
   "outputs": [],
   "source": [
    "public class Person {\n",
    "    String name;\n",
    "    int age;\n",
    "    int height;\n",
    "    String job;\n",
    "\n",
    "    public Person(String name, int age, int height, String job) {\n",
    "        this.name = name;\n",
    "        this.age = age;\n",
    "        this.height = height;\n",
    "        this.job = job;\n",
    "    }\n",
    "}\n",
    "\n",
    "public static void main(String[] args) {\n",
    "    Person person1 = new Person(\"Carl\", 25, 165, \"Construction Worker\");\n",
    "    Person person2 = new Person(\"Adam\", 29, 160, \"Truck Driver\");\n",
    "    Person person3 = person1;\n",
    "    int number = 16;\n",
    "    System.out.println(number);\n",
    "}\n",
    "main(null);"
   ]
  },
  {
   "cell_type": "markdown",
   "metadata": {},
   "source": [
    "Answer the following questions based on the code above:\n",
    "\n",
    "A. What kind of types are person1 and person2?\n",
    "\n",
    "Answer: reference types bc they are objects\n",
    "\n",
    "B. Do person1 and person3 point to the same value in memory?\n",
    "\n",
    "Answer: yes, person 3 assigned to person 1 \n",
    "\n",
    "C. Is the integer “number” stored in the heap or in the stack?\n",
    "\n",
    "Answer: stack bc primitive type \n",
    "\n",
    "D. Is the value that “person1” points to stored in the heap or in the stack?\n",
    "\n",
    "Answer: heap bc object "
   ]
  },
  {
   "cell_type": "markdown",
   "metadata": {},
   "source": [
    "<b>Part 2 - Situation: You are developing a banking application where you need to represent customer information. You have decided to use both primitive types and reference types for this purpose.\n",
    "\n",
    "(a) Define primitive types and reference types in Java. Provide examples of each.</b>\n",
    "\n",
    "primitive types: limited and are predefined in the LANGUAGE. Ex. int, boolean \n",
    "reference types: unlimited and are defined by the USER. Ex. String, ArrayList \n",
    "\n",
    "reference types: unlimited and can be defined by programmer Ex. class, interface\n",
    "\n",
    "<b>(b) Explain the differences between primitive types and reference types in terms of memory allocation and usage in Java programs.</b>\n",
    "\n",
    "memory location for primitive types directly stores the actual data held by the variable. memory location for reference types stores a reference to the data in memory. \n",
    "\n",
    "<b>(c) Code: You have a method `calculateInterest` that takes a primitive `double` type representing the principal amount and a reference type `Customer` representing the customer information. Write the method signature and the method implementation. Include comments to explain your code.</b>\n"
   ]
  },
  {
   "cell_type": "code",
   "execution_count": 1,
   "metadata": {},
   "outputs": [
    {
     "name": "stdout",
     "output_type": "stream",
     "text": [
      "Customer interest: $70.0\n"
     ]
    }
   ],
   "source": [
    "public class Customer{\n",
    "\n",
    "    private String name;\n",
    "    private double interestRate; \n",
    "\n",
    "    public Customer(String name, double interestRate){\n",
    "        // this keyword to differentiate local and instance variables\n",
    "        this.name = name;\n",
    "        this.interestRate = interestRate;\n",
    "    }\n",
    "\n",
    "    // accessor methods \n",
    "    public String getName() {\n",
    "        return name;\n",
    "    }\n",
    "    public double getInterestRate() {\n",
    "        return interestRate;\n",
    "    }\n",
    "}\n",
    "\n",
    "public class InterestCalculator{\n",
    "    // method implementation\n",
    "    public static double calculateInterest(double principal, Customer customer) { // method takes primitive double type and customer reference type\n",
    "        double interestRate = customer.getInterestRate();\n",
    "        double interest = principal * interestRate;\n",
    "        return interest;\n",
    "    }\n",
    "\n",
    "    // main method \n",
    "    public static void main(String[] args){\n",
    "        // customer object\n",
    "        Customer customer = new Customer(\"Emma\", 0.07); \n",
    "        double principal = 1000;\n",
    "        double interest = calculateInterest(principal, customer);\n",
    "        System.out.println(\"Customer interest: $\" + interest);\n",
    "    }\n",
    "}\n",
    "\n",
    "InterestCalculator.main(null);"
   ]
  },
  {
   "cell_type": "markdown",
   "metadata": {},
   "source": [
    "<h2>Question 3: ArrayList (Unit 6)</h2>\n",
    "\n",
    "Situation: You are developing a student management system where you need to store and analyze the grades of students in a class.\n",
    "\n",
    "(a) Define an arrayList in Java. Explain its significance and usefulness in programming.\n",
    "\n",
    "- It's like an array but you can resize it even after you instantiate it. also it is a class that can have many methods and is not designed to store primitives. it could be useful when not sure how big of size and want to change later\n",
    "\n",
    "(b) Code:\n",
    "\n",
    "You need to implement a method `calculateAverageGrade` that takes an arrayList `grades` of integers representing student grades and returns the average of all the elements in the arrayList. Write the method signature and the method implementation. Include comments to explain your code.\n"
   ]
  },
  {
   "cell_type": "code",
   "execution_count": 3,
   "metadata": {},
   "outputs": [
    {
     "name": "stdout",
     "output_type": "stream",
     "text": [
      "Average grade is: 85.66666666666667\n"
     ]
    }
   ],
   "source": [
    "import java.util.ArrayList;\n",
    "\n",
    "public class AverageGrade{\n",
    "    public static double calculateAverageGrade(ArrayList<Integer> grades){\n",
    "        double sum = 0;\n",
    "        \n",
    "        // enhanced for loop bc only need to access value not change it\n",
    "        for (Integer i: grades){\n",
    "            sum += i;\n",
    "        }\n",
    "\n",
    "        double avg = sum/grades.size();\n",
    "        return avg;\n",
    "    }\n",
    "\n",
    "    // main method \n",
    "    public static void main(String[] args){\n",
    "        // arraylist!!\n",
    "        ArrayList<Integer> grades = new ArrayList<Integer>();\n",
    "        grades.add(77);\n",
    "        grades.add(92);\n",
    "        grades.add(88);\n",
    "        \n",
    "        double avgGrade = calculateAverageGrade(grades);\n",
    "        System.out.println(\"Average grade is: \"+ avgGrade);\n",
    "    }\n",
    "}\n",
    "AverageGrade.main(null);"
   ]
  },
  {
   "cell_type": "markdown",
   "metadata": {},
   "source": [
    "<h2>Question 4: Math Class (Unit 2)</h2>\n",
    "\n",
    "Situation: You are developing a scientific calculator application where users need to perform various mathematical operations.\n",
    "\n",
    "(a) Discuss the purpose and utility of the Math class in Java programming. Provide examples of at least three methods provided by the Math class and explain their usage.\n",
    "\n",
    "math class comes with lots of useful methods to help do calculations that we don't want to do ourselves\n",
    "\n",
    "1. static int abs(int x) = Returns the absolute value of an int value\n",
    "int absolute1 = Math.abs(-100); = 100 \n",
    "\n",
    "2. static double pow(double base, double exponent) = Returns the value of the first parameter raised to the power of the second\n",
    "double powerOf2 = Math.pow(2.0, 7.0); \n",
    "\n",
    "3. static double random() = Returns a double value greater than or equal to 0.0 and less than 1.0\n",
    "\n",
    "\n",
    "(b) Code:\n",
    "\n",
    "You need to implement a method `calculateSquareRoot` that takes a `double` number as input and returns its square root using the Math class. Write the method signature and the method implementation. Include comments to explain your code.\n"
   ]
  },
  {
   "cell_type": "code",
   "execution_count": 4,
   "metadata": {},
   "outputs": [
    {
     "name": "stdout",
     "output_type": "stream",
     "text": [
      "Square root is: 11096.08594955897\n"
     ]
    }
   ],
   "source": [
    "public class SquareRoot{\n",
    "\n",
    "    public static double calculateSquareRoot(double number){\n",
    "        return Math.sqrt(number);\n",
    "    }\n",
    "\n",
    "    public static void main(String[] args){\n",
    "        double num = 123123123.4;\n",
    "        double sqrtValue = calculateSquareRoot(num);\n",
    "        \n",
    "        System.out.println(\"Square root is: \" + sqrtValue);\n",
    "    }\n",
    "}\n",
    "\n",
    "SquareRoot.main(null);"
   ]
  },
  {
   "cell_type": "markdown",
   "metadata": {},
   "source": [
    "{% include utterances.html %}"
   ]
  }
 ],
 "metadata": {
  "kernelspec": {
   "display_name": "Java",
   "language": "java",
   "name": "java"
  },
  "language_info": {
   "codemirror_mode": "java",
   "file_extension": ".jshell",
   "mimetype": "text/x-java-source",
   "name": "java",
   "pygments_lexer": "java",
   "version": "20.0.1"
  }
 },
 "nbformat": 4,
 "nbformat_minor": 2
}
